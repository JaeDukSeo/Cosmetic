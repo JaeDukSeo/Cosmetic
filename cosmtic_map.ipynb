{
 "cells": [
  {
   "cell_type": "markdown",
   "metadata": {},
   "source": [
    "# Mapping Cosmetic Items based on Ingredients"
   ]
  },
  {
   "cell_type": "markdown",
   "metadata": {},
   "source": [
    "This is the project for mapping cosmetic items based on similarities of chemical composition. The dataset was prepared in advance. After preprocessing, the ingredients are tokenzied just like tokens from Natural Language Preprocessing. With the truncated SVD, I reduced the dimensionality, which will also be possible to get the contextual similarities of tokens. I applied this concept to count the similarities of cosmetic items and visualized with an interactive bokeh application. It's possible to use this plot as a map of cosmetic items and a recommendation for new items with similiar property. This notebook starts from visualizin the interactive bokeh plot, which offers options to choose.  "
   ]
  },
  {
   "cell_type": "markdown",
   "metadata": {},
   "source": [
    "## 1. Import the necessary libraries and the dataset"
   ]
  },
  {
   "cell_type": "code",
   "execution_count": 3,
   "metadata": {},
   "outputs": [],
   "source": [
    "# import libraries\n",
    "import pandas as pd\n",
    "from bokeh.io import show, curdoc, output_notebook, push_notebook\n",
    "from bokeh.plotting import figure\n",
    "from bokeh.models import ColumnDataSource, HoverTool, Select, Paragraph, TextInput\n",
    "from bokeh.layouts import widgetbox, column, row\n",
    "from ipywidgets import interact "
   ]
  },
  {
   "cell_type": "code",
   "execution_count": 4,
   "metadata": {},
   "outputs": [
    {
     "name": "stdout",
     "output_type": "stream",
     "text": [
      "<class 'pandas.core.frame.DataFrame'>\n",
      "RangeIndex: 4480 entries, 0 to 4479\n",
      "Data columns (total 7 columns):\n",
      "Label    4480 non-null object\n",
      "brand    4480 non-null object\n",
      "name     4480 non-null object\n",
      "price    4480 non-null int64\n",
      "rank     4480 non-null float64\n",
      "SVD1     4480 non-null float64\n",
      "SVD2     4480 non-null float64\n",
      "dtypes: float64(3), int64(1), object(3)\n",
      "memory usage: 245.1+ KB\n"
     ]
    },
    {
     "data": {
      "text/html": [
       "<div>\n",
       "<style scoped>\n",
       "    .dataframe tbody tr th:only-of-type {\n",
       "        vertical-align: middle;\n",
       "    }\n",
       "\n",
       "    .dataframe tbody tr th {\n",
       "        vertical-align: top;\n",
       "    }\n",
       "\n",
       "    .dataframe thead th {\n",
       "        text-align: right;\n",
       "    }\n",
       "</style>\n",
       "<table border=\"1\" class=\"dataframe\">\n",
       "  <thead>\n",
       "    <tr style=\"text-align: right;\">\n",
       "      <th></th>\n",
       "      <th>Label</th>\n",
       "      <th>brand</th>\n",
       "      <th>name</th>\n",
       "      <th>price</th>\n",
       "      <th>rank</th>\n",
       "      <th>SVD1</th>\n",
       "      <th>SVD2</th>\n",
       "    </tr>\n",
       "  </thead>\n",
       "  <tbody>\n",
       "    <tr>\n",
       "      <th>0</th>\n",
       "      <td>Moisturizer_Combination</td>\n",
       "      <td>LA MER</td>\n",
       "      <td>Crème de la Mer</td>\n",
       "      <td>175</td>\n",
       "      <td>4.1</td>\n",
       "      <td>1.721741</td>\n",
       "      <td>2.937995</td>\n",
       "    </tr>\n",
       "    <tr>\n",
       "      <th>1</th>\n",
       "      <td>Moisturizer_Combination</td>\n",
       "      <td>SK-II</td>\n",
       "      <td>Facial Treatment Essence</td>\n",
       "      <td>179</td>\n",
       "      <td>4.1</td>\n",
       "      <td>0.566024</td>\n",
       "      <td>0.069162</td>\n",
       "    </tr>\n",
       "    <tr>\n",
       "      <th>2</th>\n",
       "      <td>Moisturizer_Combination</td>\n",
       "      <td>DRUNK ELEPHANT</td>\n",
       "      <td>Protini™ Polypeptide Cream</td>\n",
       "      <td>68</td>\n",
       "      <td>4.4</td>\n",
       "      <td>2.605622</td>\n",
       "      <td>-1.063020</td>\n",
       "    </tr>\n",
       "    <tr>\n",
       "      <th>3</th>\n",
       "      <td>Moisturizer_Combination</td>\n",
       "      <td>LA MER</td>\n",
       "      <td>The Moisturizing Soft Cream</td>\n",
       "      <td>175</td>\n",
       "      <td>3.8</td>\n",
       "      <td>3.931477</td>\n",
       "      <td>4.717803</td>\n",
       "    </tr>\n",
       "    <tr>\n",
       "      <th>4</th>\n",
       "      <td>Moisturizer_Combination</td>\n",
       "      <td>IT COSMETICS</td>\n",
       "      <td>Your Skin But Better™ CC+™ Cream with SPF 50+</td>\n",
       "      <td>38</td>\n",
       "      <td>4.1</td>\n",
       "      <td>3.950338</td>\n",
       "      <td>-4.083270</td>\n",
       "    </tr>\n",
       "  </tbody>\n",
       "</table>\n",
       "</div>"
      ],
      "text/plain": [
       "                     Label           brand  \\\n",
       "0  Moisturizer_Combination          LA MER   \n",
       "1  Moisturizer_Combination           SK-II   \n",
       "2  Moisturizer_Combination  DRUNK ELEPHANT   \n",
       "3  Moisturizer_Combination          LA MER   \n",
       "4  Moisturizer_Combination    IT COSMETICS   \n",
       "\n",
       "                                            name  price  rank      SVD1  \\\n",
       "0                                Crème de la Mer    175   4.1  1.721741   \n",
       "1                       Facial Treatment Essence    179   4.1  0.566024   \n",
       "2                     Protini™ Polypeptide Cream     68   4.4  2.605622   \n",
       "3                    The Moisturizing Soft Cream    175   3.8  3.931477   \n",
       "4  Your Skin But Better™ CC+™ Cream with SPF 50+     38   4.1  3.950338   \n",
       "\n",
       "       SVD2  \n",
       "0  2.937995  \n",
       "1  0.069162  \n",
       "2 -1.063020  \n",
       "3  4.717803  \n",
       "4 -4.083270  "
      ]
     },
     "execution_count": 4,
     "metadata": {},
     "output_type": "execute_result"
    }
   ],
   "source": [
    "# load the dataset\n",
    "df = pd.read_csv('cosmetic_svd.csv')\n",
    "df.info()\n",
    "df.head()"
   ]
  },
  {
   "cell_type": "markdown",
   "metadata": {},
   "source": [
    "All the steps until the decomposition is done already and I combine all data into one with all possible combination. `brand`,  `name`, `price` and `rank` is the data of each item scraped from [Sephora](https://www.sephora.com). "
   ]
  },
  {
   "cell_type": "code",
   "execution_count": null,
   "metadata": {},
   "outputs": [],
   "source": []
  },
  {
   "cell_type": "code",
   "execution_count": 5,
   "metadata": {},
   "outputs": [
    {
     "name": "stdout",
     "output_type": "stream",
     "text": [
      "['Moisturizer', 'Cleanser', 'Treatment', 'Face Mask', 'Eye cream', 'Sun protect']\n",
      "['Combination', 'Dry', 'Normal', 'Oily', 'Sensitive']\n"
     ]
    },
    {
     "data": {
      "text/plain": [
       "array(['Moisturizer_Combination', 'Moisturizer_Dry', 'Moisturizer_Normal',\n",
       "       'Moisturizer_Oily', 'Moisturizer_Sensitive',\n",
       "       'Cleanser_Combination', 'Cleanser_Dry', 'Cleanser_Normal',\n",
       "       'Cleanser_Oily', 'Cleanser_Sensitive', 'Treatment_Combination',\n",
       "       'Treatment_Dry', 'Treatment_Normal', 'Treatment_Oily',\n",
       "       'Treatment_Sensitive', 'Face Mask_Combination', 'Face Mask_Dry',\n",
       "       'Face Mask_Normal', 'Face Mask_Oily', 'Face Mask_Sensitive',\n",
       "       'Eye cream_Combination', 'Eye cream_Dry', 'Eye cream_Normal',\n",
       "       'Eye cream_Oily', 'Eye cream_Sensitive', 'Sun protect_Combination',\n",
       "       'Sun protect_Dry', 'Sun protect_Normal', 'Sun protect_Oily',\n",
       "       'Sun protect_Sensitive'], dtype=object)"
      ]
     },
     "execution_count": 5,
     "metadata": {},
     "output_type": "execute_result"
    }
   ],
   "source": [
    "# cosmetic filtering options\n",
    "option_1 = ['Moisturizer', 'Cleanser', 'Treatment', 'Face Mask', 'Eye cream', 'Sun protect']\n",
    "option_2 = ['Combination', 'Dry', 'Normal', 'Oily', 'Sensitive']\n",
    "\n",
    "print(option_1)\n",
    "print(option_2)\n",
    "\n",
    "# the 30 different combinations of options\n",
    "df.Label.unique()"
   ]
  },
  {
   "cell_type": "code",
   "execution_count": null,
   "metadata": {},
   "outputs": [],
   "source": []
  },
  {
   "cell_type": "markdown",
   "metadata": {},
   "source": [
    "There are 6 different categories of items and 5 skin tpye options. So `Label` column has all possible 30 combinations as above. To make a selecting option and filtering application on them, I calculated the similarities separately. Users can choice each one from option_1 and option_2 and get the filtered plot accordingly."
   ]
  },
  {
   "cell_type": "markdown",
   "metadata": {},
   "source": [
    "## 2. Mapping with Bokeh"
   ]
  },
  {
   "cell_type": "code",
   "execution_count": 6,
   "metadata": {},
   "outputs": [
    {
     "data": {
      "text/html": [
       "\n",
       "    <div class=\"bk-root\">\n",
       "        <a href=\"https://bokeh.pydata.org\" target=\"_blank\" class=\"bk-logo bk-logo-small bk-logo-notebook\"></a>\n",
       "        <span id=\"be4f57d9-c241-4d18-82d3-3ea04e970a6d\">Loading BokehJS ...</span>\n",
       "    </div>"
      ]
     },
     "metadata": {},
     "output_type": "display_data"
    },
    {
     "data": {
      "application/javascript": [
       "\n",
       "(function(root) {\n",
       "  function now() {\n",
       "    return new Date();\n",
       "  }\n",
       "\n",
       "  var force = true;\n",
       "\n",
       "  if (typeof (root._bokeh_onload_callbacks) === \"undefined\" || force === true) {\n",
       "    root._bokeh_onload_callbacks = [];\n",
       "    root._bokeh_is_loading = undefined;\n",
       "  }\n",
       "\n",
       "  var JS_MIME_TYPE = 'application/javascript';\n",
       "  var HTML_MIME_TYPE = 'text/html';\n",
       "  var EXEC_MIME_TYPE = 'application/vnd.bokehjs_exec.v0+json';\n",
       "  var CLASS_NAME = 'output_bokeh rendered_html';\n",
       "\n",
       "  /**\n",
       "   * Render data to the DOM node\n",
       "   */\n",
       "  function render(props, node) {\n",
       "    var script = document.createElement(\"script\");\n",
       "    node.appendChild(script);\n",
       "  }\n",
       "\n",
       "  /**\n",
       "   * Handle when an output is cleared or removed\n",
       "   */\n",
       "  function handleClearOutput(event, handle) {\n",
       "    var cell = handle.cell;\n",
       "\n",
       "    var id = cell.output_area._bokeh_element_id;\n",
       "    var server_id = cell.output_area._bokeh_server_id;\n",
       "    // Clean up Bokeh references\n",
       "    if (id != null && id in Bokeh.index) {\n",
       "      Bokeh.index[id].model.document.clear();\n",
       "      delete Bokeh.index[id];\n",
       "    }\n",
       "\n",
       "    if (server_id !== undefined) {\n",
       "      // Clean up Bokeh references\n",
       "      var cmd = \"from bokeh.io.state import curstate; print(curstate().uuid_to_server['\" + server_id + \"'].get_sessions()[0].document.roots[0]._id)\";\n",
       "      cell.notebook.kernel.execute(cmd, {\n",
       "        iopub: {\n",
       "          output: function(msg) {\n",
       "            var id = msg.content.text.trim();\n",
       "            if (id in Bokeh.index) {\n",
       "              Bokeh.index[id].model.document.clear();\n",
       "              delete Bokeh.index[id];\n",
       "            }\n",
       "          }\n",
       "        }\n",
       "      });\n",
       "      // Destroy server and session\n",
       "      var cmd = \"import bokeh.io.notebook as ion; ion.destroy_server('\" + server_id + \"')\";\n",
       "      cell.notebook.kernel.execute(cmd);\n",
       "    }\n",
       "  }\n",
       "\n",
       "  /**\n",
       "   * Handle when a new output is added\n",
       "   */\n",
       "  function handleAddOutput(event, handle) {\n",
       "    var output_area = handle.output_area;\n",
       "    var output = handle.output;\n",
       "\n",
       "    // limit handleAddOutput to display_data with EXEC_MIME_TYPE content only\n",
       "    if ((output.output_type != \"display_data\") || (!output.data.hasOwnProperty(EXEC_MIME_TYPE))) {\n",
       "      return\n",
       "    }\n",
       "\n",
       "    var toinsert = output_area.element.find(\".\" + CLASS_NAME.split(' ')[0]);\n",
       "\n",
       "    if (output.metadata[EXEC_MIME_TYPE][\"id\"] !== undefined) {\n",
       "      toinsert[toinsert.length - 1].firstChild.textContent = output.data[JS_MIME_TYPE];\n",
       "      // store reference to embed id on output_area\n",
       "      output_area._bokeh_element_id = output.metadata[EXEC_MIME_TYPE][\"id\"];\n",
       "    }\n",
       "    if (output.metadata[EXEC_MIME_TYPE][\"server_id\"] !== undefined) {\n",
       "      var bk_div = document.createElement(\"div\");\n",
       "      bk_div.innerHTML = output.data[HTML_MIME_TYPE];\n",
       "      var script_attrs = bk_div.children[0].attributes;\n",
       "      for (var i = 0; i < script_attrs.length; i++) {\n",
       "        toinsert[toinsert.length - 1].firstChild.setAttribute(script_attrs[i].name, script_attrs[i].value);\n",
       "      }\n",
       "      // store reference to server id on output_area\n",
       "      output_area._bokeh_server_id = output.metadata[EXEC_MIME_TYPE][\"server_id\"];\n",
       "    }\n",
       "  }\n",
       "\n",
       "  function register_renderer(events, OutputArea) {\n",
       "\n",
       "    function append_mime(data, metadata, element) {\n",
       "      // create a DOM node to render to\n",
       "      var toinsert = this.create_output_subarea(\n",
       "        metadata,\n",
       "        CLASS_NAME,\n",
       "        EXEC_MIME_TYPE\n",
       "      );\n",
       "      this.keyboard_manager.register_events(toinsert);\n",
       "      // Render to node\n",
       "      var props = {data: data, metadata: metadata[EXEC_MIME_TYPE]};\n",
       "      render(props, toinsert[toinsert.length - 1]);\n",
       "      element.append(toinsert);\n",
       "      return toinsert\n",
       "    }\n",
       "\n",
       "    /* Handle when an output is cleared or removed */\n",
       "    events.on('clear_output.CodeCell', handleClearOutput);\n",
       "    events.on('delete.Cell', handleClearOutput);\n",
       "\n",
       "    /* Handle when a new output is added */\n",
       "    events.on('output_added.OutputArea', handleAddOutput);\n",
       "\n",
       "    /**\n",
       "     * Register the mime type and append_mime function with output_area\n",
       "     */\n",
       "    OutputArea.prototype.register_mime_type(EXEC_MIME_TYPE, append_mime, {\n",
       "      /* Is output safe? */\n",
       "      safe: true,\n",
       "      /* Index of renderer in `output_area.display_order` */\n",
       "      index: 0\n",
       "    });\n",
       "  }\n",
       "\n",
       "  // register the mime type if in Jupyter Notebook environment and previously unregistered\n",
       "  if (root.Jupyter !== undefined) {\n",
       "    var events = require('base/js/events');\n",
       "    var OutputArea = require('notebook/js/outputarea').OutputArea;\n",
       "\n",
       "    if (OutputArea.prototype.mime_types().indexOf(EXEC_MIME_TYPE) == -1) {\n",
       "      register_renderer(events, OutputArea);\n",
       "    }\n",
       "  }\n",
       "\n",
       "  \n",
       "  if (typeof (root._bokeh_timeout) === \"undefined\" || force === true) {\n",
       "    root._bokeh_timeout = Date.now() + 5000;\n",
       "    root._bokeh_failed_load = false;\n",
       "  }\n",
       "\n",
       "  var NB_LOAD_WARNING = {'data': {'text/html':\n",
       "     \"<div style='background-color: #fdd'>\\n\"+\n",
       "     \"<p>\\n\"+\n",
       "     \"BokehJS does not appear to have successfully loaded. If loading BokehJS from CDN, this \\n\"+\n",
       "     \"may be due to a slow or bad network connection. Possible fixes:\\n\"+\n",
       "     \"</p>\\n\"+\n",
       "     \"<ul>\\n\"+\n",
       "     \"<li>re-rerun `output_notebook()` to attempt to load from CDN again, or</li>\\n\"+\n",
       "     \"<li>use INLINE resources instead, as so:</li>\\n\"+\n",
       "     \"</ul>\\n\"+\n",
       "     \"<code>\\n\"+\n",
       "     \"from bokeh.resources import INLINE\\n\"+\n",
       "     \"output_notebook(resources=INLINE)\\n\"+\n",
       "     \"</code>\\n\"+\n",
       "     \"</div>\"}};\n",
       "\n",
       "  function display_loaded() {\n",
       "    var el = document.getElementById(\"be4f57d9-c241-4d18-82d3-3ea04e970a6d\");\n",
       "    if (el != null) {\n",
       "      el.textContent = \"BokehJS is loading...\";\n",
       "    }\n",
       "    if (root.Bokeh !== undefined) {\n",
       "      if (el != null) {\n",
       "        el.textContent = \"BokehJS \" + root.Bokeh.version + \" successfully loaded.\";\n",
       "      }\n",
       "    } else if (Date.now() < root._bokeh_timeout) {\n",
       "      setTimeout(display_loaded, 100)\n",
       "    }\n",
       "  }\n",
       "\n",
       "\n",
       "  function run_callbacks() {\n",
       "    try {\n",
       "      root._bokeh_onload_callbacks.forEach(function(callback) { callback() });\n",
       "    }\n",
       "    finally {\n",
       "      delete root._bokeh_onload_callbacks\n",
       "    }\n",
       "    console.info(\"Bokeh: all callbacks have finished\");\n",
       "  }\n",
       "\n",
       "  function load_libs(js_urls, callback) {\n",
       "    root._bokeh_onload_callbacks.push(callback);\n",
       "    if (root._bokeh_is_loading > 0) {\n",
       "      console.log(\"Bokeh: BokehJS is being loaded, scheduling callback at\", now());\n",
       "      return null;\n",
       "    }\n",
       "    if (js_urls == null || js_urls.length === 0) {\n",
       "      run_callbacks();\n",
       "      return null;\n",
       "    }\n",
       "    console.log(\"Bokeh: BokehJS not loaded, scheduling load and callback at\", now());\n",
       "    root._bokeh_is_loading = js_urls.length;\n",
       "    for (var i = 0; i < js_urls.length; i++) {\n",
       "      var url = js_urls[i];\n",
       "      var s = document.createElement('script');\n",
       "      s.src = url;\n",
       "      s.async = false;\n",
       "      s.onreadystatechange = s.onload = function() {\n",
       "        root._bokeh_is_loading--;\n",
       "        if (root._bokeh_is_loading === 0) {\n",
       "          console.log(\"Bokeh: all BokehJS libraries loaded\");\n",
       "          run_callbacks()\n",
       "        }\n",
       "      };\n",
       "      s.onerror = function() {\n",
       "        console.warn(\"failed to load library \" + url);\n",
       "      };\n",
       "      console.log(\"Bokeh: injecting script tag for BokehJS library: \", url);\n",
       "      document.getElementsByTagName(\"head\")[0].appendChild(s);\n",
       "    }\n",
       "  };var element = document.getElementById(\"be4f57d9-c241-4d18-82d3-3ea04e970a6d\");\n",
       "  if (element == null) {\n",
       "    console.log(\"Bokeh: ERROR: autoload.js configured with elementid 'be4f57d9-c241-4d18-82d3-3ea04e970a6d' but no matching script tag was found. \")\n",
       "    return false;\n",
       "  }\n",
       "\n",
       "  var js_urls = [\"https://cdn.pydata.org/bokeh/release/bokeh-0.13.0.min.js\", \"https://cdn.pydata.org/bokeh/release/bokeh-widgets-0.13.0.min.js\", \"https://cdn.pydata.org/bokeh/release/bokeh-tables-0.13.0.min.js\", \"https://cdn.pydata.org/bokeh/release/bokeh-gl-0.13.0.min.js\"];\n",
       "\n",
       "  var inline_js = [\n",
       "    function(Bokeh) {\n",
       "      Bokeh.set_log_level(\"info\");\n",
       "    },\n",
       "    \n",
       "    function(Bokeh) {\n",
       "      \n",
       "    },\n",
       "    function(Bokeh) {\n",
       "      console.log(\"Bokeh: injecting CSS: https://cdn.pydata.org/bokeh/release/bokeh-0.13.0.min.css\");\n",
       "      Bokeh.embed.inject_css(\"https://cdn.pydata.org/bokeh/release/bokeh-0.13.0.min.css\");\n",
       "      console.log(\"Bokeh: injecting CSS: https://cdn.pydata.org/bokeh/release/bokeh-widgets-0.13.0.min.css\");\n",
       "      Bokeh.embed.inject_css(\"https://cdn.pydata.org/bokeh/release/bokeh-widgets-0.13.0.min.css\");\n",
       "      console.log(\"Bokeh: injecting CSS: https://cdn.pydata.org/bokeh/release/bokeh-tables-0.13.0.min.css\");\n",
       "      Bokeh.embed.inject_css(\"https://cdn.pydata.org/bokeh/release/bokeh-tables-0.13.0.min.css\");\n",
       "    }\n",
       "  ];\n",
       "\n",
       "  function run_inline_js() {\n",
       "    \n",
       "    if ((root.Bokeh !== undefined) || (force === true)) {\n",
       "      for (var i = 0; i < inline_js.length; i++) {\n",
       "        inline_js[i].call(root, root.Bokeh);\n",
       "      }if (force === true) {\n",
       "        display_loaded();\n",
       "      }} else if (Date.now() < root._bokeh_timeout) {\n",
       "      setTimeout(run_inline_js, 100);\n",
       "    } else if (!root._bokeh_failed_load) {\n",
       "      console.log(\"Bokeh: BokehJS failed to load within specified timeout.\");\n",
       "      root._bokeh_failed_load = true;\n",
       "    } else if (force !== true) {\n",
       "      var cell = $(document.getElementById(\"be4f57d9-c241-4d18-82d3-3ea04e970a6d\")).parents('.cell').data().cell;\n",
       "      cell.output_area.append_execute_result(NB_LOAD_WARNING)\n",
       "    }\n",
       "\n",
       "  }\n",
       "\n",
       "  if (root._bokeh_is_loading === 0) {\n",
       "    console.log(\"Bokeh: BokehJS loaded, going straight to plotting\");\n",
       "    run_inline_js();\n",
       "  } else {\n",
       "    load_libs(js_urls, function() {\n",
       "      console.log(\"Bokeh: BokehJS plotting callback run at\", now());\n",
       "      run_inline_js();\n",
       "    });\n",
       "  }\n",
       "}(window));"
      ],
      "application/vnd.bokehjs_load.v0+json": "\n(function(root) {\n  function now() {\n    return new Date();\n  }\n\n  var force = true;\n\n  if (typeof (root._bokeh_onload_callbacks) === \"undefined\" || force === true) {\n    root._bokeh_onload_callbacks = [];\n    root._bokeh_is_loading = undefined;\n  }\n\n  \n\n  \n  if (typeof (root._bokeh_timeout) === \"undefined\" || force === true) {\n    root._bokeh_timeout = Date.now() + 5000;\n    root._bokeh_failed_load = false;\n  }\n\n  var NB_LOAD_WARNING = {'data': {'text/html':\n     \"<div style='background-color: #fdd'>\\n\"+\n     \"<p>\\n\"+\n     \"BokehJS does not appear to have successfully loaded. If loading BokehJS from CDN, this \\n\"+\n     \"may be due to a slow or bad network connection. Possible fixes:\\n\"+\n     \"</p>\\n\"+\n     \"<ul>\\n\"+\n     \"<li>re-rerun `output_notebook()` to attempt to load from CDN again, or</li>\\n\"+\n     \"<li>use INLINE resources instead, as so:</li>\\n\"+\n     \"</ul>\\n\"+\n     \"<code>\\n\"+\n     \"from bokeh.resources import INLINE\\n\"+\n     \"output_notebook(resources=INLINE)\\n\"+\n     \"</code>\\n\"+\n     \"</div>\"}};\n\n  function display_loaded() {\n    var el = document.getElementById(\"be4f57d9-c241-4d18-82d3-3ea04e970a6d\");\n    if (el != null) {\n      el.textContent = \"BokehJS is loading...\";\n    }\n    if (root.Bokeh !== undefined) {\n      if (el != null) {\n        el.textContent = \"BokehJS \" + root.Bokeh.version + \" successfully loaded.\";\n      }\n    } else if (Date.now() < root._bokeh_timeout) {\n      setTimeout(display_loaded, 100)\n    }\n  }\n\n\n  function run_callbacks() {\n    try {\n      root._bokeh_onload_callbacks.forEach(function(callback) { callback() });\n    }\n    finally {\n      delete root._bokeh_onload_callbacks\n    }\n    console.info(\"Bokeh: all callbacks have finished\");\n  }\n\n  function load_libs(js_urls, callback) {\n    root._bokeh_onload_callbacks.push(callback);\n    if (root._bokeh_is_loading > 0) {\n      console.log(\"Bokeh: BokehJS is being loaded, scheduling callback at\", now());\n      return null;\n    }\n    if (js_urls == null || js_urls.length === 0) {\n      run_callbacks();\n      return null;\n    }\n    console.log(\"Bokeh: BokehJS not loaded, scheduling load and callback at\", now());\n    root._bokeh_is_loading = js_urls.length;\n    for (var i = 0; i < js_urls.length; i++) {\n      var url = js_urls[i];\n      var s = document.createElement('script');\n      s.src = url;\n      s.async = false;\n      s.onreadystatechange = s.onload = function() {\n        root._bokeh_is_loading--;\n        if (root._bokeh_is_loading === 0) {\n          console.log(\"Bokeh: all BokehJS libraries loaded\");\n          run_callbacks()\n        }\n      };\n      s.onerror = function() {\n        console.warn(\"failed to load library \" + url);\n      };\n      console.log(\"Bokeh: injecting script tag for BokehJS library: \", url);\n      document.getElementsByTagName(\"head\")[0].appendChild(s);\n    }\n  };var element = document.getElementById(\"be4f57d9-c241-4d18-82d3-3ea04e970a6d\");\n  if (element == null) {\n    console.log(\"Bokeh: ERROR: autoload.js configured with elementid 'be4f57d9-c241-4d18-82d3-3ea04e970a6d' but no matching script tag was found. \")\n    return false;\n  }\n\n  var js_urls = [\"https://cdn.pydata.org/bokeh/release/bokeh-0.13.0.min.js\", \"https://cdn.pydata.org/bokeh/release/bokeh-widgets-0.13.0.min.js\", \"https://cdn.pydata.org/bokeh/release/bokeh-tables-0.13.0.min.js\", \"https://cdn.pydata.org/bokeh/release/bokeh-gl-0.13.0.min.js\"];\n\n  var inline_js = [\n    function(Bokeh) {\n      Bokeh.set_log_level(\"info\");\n    },\n    \n    function(Bokeh) {\n      \n    },\n    function(Bokeh) {\n      console.log(\"Bokeh: injecting CSS: https://cdn.pydata.org/bokeh/release/bokeh-0.13.0.min.css\");\n      Bokeh.embed.inject_css(\"https://cdn.pydata.org/bokeh/release/bokeh-0.13.0.min.css\");\n      console.log(\"Bokeh: injecting CSS: https://cdn.pydata.org/bokeh/release/bokeh-widgets-0.13.0.min.css\");\n      Bokeh.embed.inject_css(\"https://cdn.pydata.org/bokeh/release/bokeh-widgets-0.13.0.min.css\");\n      console.log(\"Bokeh: injecting CSS: https://cdn.pydata.org/bokeh/release/bokeh-tables-0.13.0.min.css\");\n      Bokeh.embed.inject_css(\"https://cdn.pydata.org/bokeh/release/bokeh-tables-0.13.0.min.css\");\n    }\n  ];\n\n  function run_inline_js() {\n    \n    if ((root.Bokeh !== undefined) || (force === true)) {\n      for (var i = 0; i < inline_js.length; i++) {\n        inline_js[i].call(root, root.Bokeh);\n      }if (force === true) {\n        display_loaded();\n      }} else if (Date.now() < root._bokeh_timeout) {\n      setTimeout(run_inline_js, 100);\n    } else if (!root._bokeh_failed_load) {\n      console.log(\"Bokeh: BokehJS failed to load within specified timeout.\");\n      root._bokeh_failed_load = true;\n    } else if (force !== true) {\n      var cell = $(document.getElementById(\"be4f57d9-c241-4d18-82d3-3ea04e970a6d\")).parents('.cell').data().cell;\n      cell.output_area.append_execute_result(NB_LOAD_WARNING)\n    }\n\n  }\n\n  if (root._bokeh_is_loading === 0) {\n    console.log(\"Bokeh: BokehJS loaded, going straight to plotting\");\n    run_inline_js();\n  } else {\n    load_libs(js_urls, function() {\n      console.log(\"Bokeh: BokehJS plotting callback run at\", now());\n      run_inline_js();\n    });\n  }\n}(window));"
     },
     "metadata": {},
     "output_type": "display_data"
    }
   ],
   "source": [
    "output_notebook()"
   ]
  },
  {
   "cell_type": "markdown",
   "metadata": {},
   "source": [
    "To work with Bokeh server on jupyter notebook, made a connection first."
   ]
  },
  {
   "cell_type": "code",
   "execution_count": 7,
   "metadata": {},
   "outputs": [],
   "source": [
    "# make a source and scatter bokeh plot  \n",
    "source = ColumnDataSource(df)\n",
    "plot = figure(x_axis_label = 'SVD1', y_axis_label = 'SVD2', width = 500, height = 400)\n",
    "plot.circle(x = 'SVD1', y = 'SVD2', source = source, size = 8, color = 'Salmon', alpha = .4)\n",
    "\n",
    "plot.background_fill_color = \"beige\"\n",
    "plot.background_fill_alpha = 0.2\n",
    "\n",
    "# add hover tool\n",
    "hover = HoverTool(tooltips = [\n",
    "        ('Item', '@name'),\n",
    "        ('brand', '@brand'),\n",
    "        ('Price', '$ @price'),\n",
    "        ('Rank', '@rank')])\n",
    "plot.add_tools(hover)"
   ]
  },
  {
   "cell_type": "code",
   "execution_count": null,
   "metadata": {},
   "outputs": [],
   "source": []
  },
  {
   "cell_type": "markdown",
   "metadata": {},
   "source": [
    "I made a main figure as a scatter plot. The x-axis and y-axis will be the value of SVD, getting the similarity resulting map. The hover tool is also added, showing the name of item with the name of its brand, the price and the rank from Sephora.  "
   ]
  },
  {
   "cell_type": "code",
   "execution_count": 8,
   "metadata": {},
   "outputs": [],
   "source": [
    "## defining the callback\n",
    "def update(Category = option_1[0], Skin_type = option_2[0]):\n",
    "    a_b = Category + '_' + Skin_type\n",
    "    new_data = {\n",
    "        'SVD1' : df[df['Label'] == a_b]['SVD1'],\n",
    "        'SVD2' : df[df['Label'] == a_b]['SVD2'],\n",
    "        'name' : df[df['Label'] == a_b]['name'],\n",
    "        'brand' : df[df['Label'] == a_b]['brand'],\n",
    "        'price' : df[df['Label'] == a_b]['price'],\n",
    "        'rank' : df[df['Label'] == a_b]['rank'],\n",
    "    }\n",
    "    source.data = new_data\n",
    "    push_notebook()"
   ]
  },
  {
   "cell_type": "markdown",
   "metadata": {},
   "source": [
    "This callback function will make it able to filter the items according to users' choice. When the option is given, it will filter and update the source."
   ]
  },
  {
   "cell_type": "code",
   "execution_count": null,
   "metadata": {},
   "outputs": [],
   "source": []
  },
  {
   "cell_type": "code",
   "execution_count": 10,
   "metadata": {},
   "outputs": [
    {
     "data": {
      "application/vnd.jupyter.widget-view+json": {
       "model_id": "334a0023aa314b99b32832a305ac025e",
       "version_major": 2,
       "version_minor": 0
      },
      "text/plain": [
       "interactive(children=(Dropdown(description='Category', options=('Moisturizer', 'Cleanser', 'Treatment', 'Face …"
      ]
     },
     "metadata": {},
     "output_type": "display_data"
    },
    {
     "data": {
      "text/html": [
       "\n",
       "\n",
       "\n",
       "\n",
       "\n",
       "\n",
       "  <div class=\"bk-root\" id=\"74b212c1-84f5-446d-8688-0453e2ab643e\"></div>\n"
      ]
     },
     "metadata": {},
     "output_type": "display_data"
    },
    {
     "data": {
      "application/javascript": [
       "(function(root) {\n",
       "  function embed_document(root) {\n",
       "    \n",
       "  var docs_json = {\"939f764a-0faf-409c-91a6-371d8d856ce1\":{\"roots\":{\"references\":[{\"attributes\":{\"overlay\":{\"id\":\"0228f97e-618a-4135-bc46-70739c023420\",\"type\":\"BoxAnnotation\"}},\"id\":\"1ec3e37e-fc53-4483-82da-b5b6c3e4782e\",\"type\":\"BoxZoomTool\"},{\"attributes\":{},\"id\":\"89f89797-d4c7-44bf-a558-66dfb5ea93dc\",\"type\":\"SaveTool\"},{\"attributes\":{},\"id\":\"acc5f7fa-79ab-4556-84fa-38ab7e139646\",\"type\":\"ResetTool\"},{\"attributes\":{},\"id\":\"1c038148-7f4a-425e-9e89-363d86187818\",\"type\":\"HelpTool\"},{\"attributes\":{\"bottom_units\":\"screen\",\"fill_alpha\":{\"value\":0.5},\"fill_color\":{\"value\":\"lightgrey\"},\"left_units\":\"screen\",\"level\":\"overlay\",\"line_alpha\":{\"value\":1.0},\"line_color\":{\"value\":\"black\"},\"line_dash\":[4,4],\"line_width\":{\"value\":2},\"plot\":null,\"render_mode\":\"css\",\"right_units\":\"screen\",\"top_units\":\"screen\"},\"id\":\"0228f97e-618a-4135-bc46-70739c023420\",\"type\":\"BoxAnnotation\"},{\"attributes\":{\"children\":[{\"id\":\"ac50cc01-fb89-415d-9c4a-e0b308b33a6b\",\"subtype\":\"Figure\",\"type\":\"Plot\"},{\"id\":\"b61a36f8-25bc-4f44-beef-175972b4a701\",\"type\":\"WidgetBox\"}]},\"id\":\"4c99fd7e-7a91-4070-a152-fd092504dfc4\",\"type\":\"Row\"},{\"attributes\":{\"background_fill_alpha\":{\"value\":0.2},\"background_fill_color\":{\"value\":\"beige\"},\"below\":[{\"id\":\"760f4cc2-a15c-471a-8593-0c36b313543e\",\"type\":\"LinearAxis\"}],\"left\":[{\"id\":\"3528e395-316e-4fcf-a6af-979d2f39aac5\",\"type\":\"LinearAxis\"}],\"plot_height\":400,\"plot_width\":500,\"renderers\":[{\"id\":\"760f4cc2-a15c-471a-8593-0c36b313543e\",\"type\":\"LinearAxis\"},{\"id\":\"d1726632-3efb-4929-8747-138a8aa7d977\",\"type\":\"Grid\"},{\"id\":\"3528e395-316e-4fcf-a6af-979d2f39aac5\",\"type\":\"LinearAxis\"},{\"id\":\"f8ec8d2f-9da6-4f4c-a485-847f13fb5a80\",\"type\":\"Grid\"},{\"id\":\"0228f97e-618a-4135-bc46-70739c023420\",\"type\":\"BoxAnnotation\"},{\"id\":\"61d12f0a-1b0c-4fad-b92d-6188244536f4\",\"type\":\"GlyphRenderer\"}],\"title\":{\"id\":\"d9637751-3f68-4dc9-888b-20be4ed26af8\",\"type\":\"Title\"},\"toolbar\":{\"id\":\"2d4467b1-1d3a-4109-882a-1b22529acc06\",\"type\":\"Toolbar\"},\"x_range\":{\"id\":\"a20cfeff-3c92-489d-bc64-8fed9eef483d\",\"type\":\"DataRange1d\"},\"x_scale\":{\"id\":\"706fee00-126e-40e5-8132-504e2ebc4929\",\"type\":\"LinearScale\"},\"y_range\":{\"id\":\"169f547d-d1d1-476f-98d5-8fbd233d2c57\",\"type\":\"DataRange1d\"},\"y_scale\":{\"id\":\"be5d076d-9f3e-4fe0-af72-0419208d06b3\",\"type\":\"LinearScale\"}},\"id\":\"ac50cc01-fb89-415d-9c4a-e0b308b33a6b\",\"subtype\":\"Figure\",\"type\":\"Plot\"},{\"attributes\":{\"callback\":null,\"data\":{\"SVD1\":{\"__ndarray__\":\"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\",\"dtype\":\"float64\",\"shape\":[199]},\"SVD2\":{\"__ndarray__\":\"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\",\"dtype\":\"float64\",\"shape\":[199]},\"brand\":[\"LA MER\",\"SK-II\",\"DRUNK ELEPHANT\",\"LA MER\",\"IT COSMETICS\",\"TATCHA\",\"DRUNK ELEPHANT\",\"DRUNK ELEPHANT\",\"KIEHL'S SINCE 1851\",\"KIEHL'S SINCE 1851\",\"BELIF\",\"SUNDAY RILEY\",\"FARMACY\",\"DRUNK ELEPHANT\",\"FIRST AID BEAUTY\",\"CLINIQUE\",\"LA MER\",\"FRESH\",\"DRUNK ELEPHANT\",\"ORIGINS\",\"CLINIQUE\",\"SK-II\",\"TATCHA\",\"OLEHENRIKSEN\",\"IT COSMETICS\",\"LANEIGE\",\"SK-II\",\"TATCHA\",\"CLINIQUE\",\"OLEHENRIKSEN\",\"SUNDAY RILEY\",\"GLOW RECIPE\",\"HERBIVORE\",\"SUNDAY RILEY\",\"CAUDALIE\",\"CAUDALIE\",\"YOUTH TO THE PEOPLE\",\"LA MER\",\"BIOSSANCE\",\"TARTE\",\"ORIGINS\",\"SON & PARK\",\"TATCHA\",\"OLEHENRIKSEN\",\"AMOREPACIFIC\",\"BOBBI BROWN\",\"DR. JART+\",\"CAUDALIE\",\"HERBIVORE\",\"ERBORIAN\",\"SUNDAY RILEY\",\"IT COSMETICS\",\"TATCHA\",\"GLAMGLOW\",\"DR. JART+\",\"LANEIGE\",\"AMOREPACIFIC\",\"GLAMGLOW\",\"FARMACY\",\"PETER THOMAS ROTH\",\"AMOREPACIFIC\",\"IT COSMETICS\",\"FRESH\",\"FIRST AID BEAUTY\",\"IT COSMETICS\",\"CLINIQUE\",\"JOSIE MARAN\",\"LANEIGE\",\"GLOW RECIPE\",\"LA MER\",\"PHILOSOPHY\",\"PERRICONE MD\",\"LANC\\u00d4ME\",\"ALGENIST\",\"DR. JART+\",\"CLINIQUE\",\"JOSIE MARAN\",\"FARMACY\",\"OLEHENRIKSEN\",\"BELIF\",\"YOUTH TO THE PEOPLE\",\"TATCHA\",\"BIOSSANCE\",\"KIEHL'S SINCE 1851\",\"BOBBI BROWN\",\"FRESH\",\"KORRES\",\"BELIF\",\"YOUTH TO THE PEOPLE\",\"IT COSMETICS\",\"TARTE\",\"SMASHBOX\",\"FIRST AID BEAUTY\",\"MURAD\",\"TATCHA\",\"GUERLAIN\",\"BIOSSANCE\",\"SMASHBOX\",\"ORIGINS\",\"KORA ORGANICS\",\"LANEIGE\",\"SK-II\",\"DR. DENNIS GROSS SKINCARE\",\"REN CLEAN SKINCARE\",\"MURAD\",\"OLEHENRIKSEN\",\"DIOR\",\"KIEHL'S SINCE 1851\",\"FIRST AID BEAUTY\",\"ORIGINS\",\"BIOSSANCE\",\"FIRST AID BEAUTY\",\"MURAD\",\"GUERLAIN\",\"ORIGINS\",\"LA MER\",\"CLINIQUE\",\"CAUDALIE\",\"MURAD\",\"KOPARI\",\"SHISEIDO\",\"CLARINS\",\"SHISEIDO\",\"LA MER\",\"LANCER\",\"TATCHA\",\"DR. DENNIS GROSS SKINCARE\",\"SMASHBOX\",\"KATE SOMERVILLE\",\"SUPERGOOP!\",\"ORIGINS\",\"CAUDALIE\",\"CAUDALIE\",\"SHISEIDO\",\"KORRES\",\"CLINIQUE\",\"SATURDAY SKIN\",\"JOSIE MARAN\",\"MILK MAKEUP\",\"EST\\u00c9E LAUDER\",\"OLEHENRIKSEN\",\"CLINIQUE\",\"PHILOSOPHY\",\"KIEHL'S SINCE 1851\",\"SK-II\",\"CAUDALIE\",\"CLARINS\",\"AMOREPACIFIC\",\"ERBORIAN\",\"DR. JART+\",\"PHILOSOPHY\",\"JOSIE MARAN\",\"KIEHL'S SINCE 1851\",\"FARMACY\",\"PHILOSOPHY\",\"AMOREPACIFIC\",\"SHISEIDO\",\"CAUDALIE\",\"KATE SOMERVILLE\",\"DR. DENNIS GROSS SKINCARE\",\"EST\\u00c9E LAUDER\",\"MURAD\",\"GUERLAIN\",\"AMOREPACIFIC\",\"EST\\u00c9E LAUDER\",\"FIRST AID BEAUTY\",\"DR. BRANDT SKINCARE\",\"LANEIGE\",\"SHISEIDO\",\"GLAMGLOW\",\"LANC\\u00d4ME\",\"BIOSSANCE\",\"ORIGINS\",\"LANC\\u00d4ME\",\"KATE SOMERVILLE\",\"J.ONE\",\"KATE SOMERVILLE\",\"PERRICONE MD\",\"JOSIE MARAN\",\"DR. JART+\",\"HERBIVORE\",\"LANC\\u00d4ME\",\"CAUDALIE\",\"JACK BLACK\",\"LANC\\u00d4ME\",\"FIRST AID BEAUTY\",\"HERBIVORE\",\"TATA HARPER\",\"CLINIQUE\",\"PHILOSOPHY\",\"KIEHL'S SINCE 1851\",\"DIOR\",\"GLAMGLOW\",\"ALGENIST\",\"SHISEIDO\",\"SATURDAY SKIN\",\"HERBIVORE\",\"KATE SOMERVILLE\",\"GO-TO\"],\"name\":[\"Cr\\u00e8me de la Mer\",\"Facial Treatment Essence\",\"Protini\\u2122 Polypeptide Cream\",\"The Moisturizing Soft Cream\",\"Your Skin But Better\\u2122 CC+\\u2122 Cream with SPF 50+\",\"The Water Cream\",\"Lala Retro\\u2122 Whipped Cream\",\"Virgin Marula Luxury Facial Oil\",\"Ultra Facial Cream\",\"Midnight Recovery Concentrate\",\"The True Cream Aqua Bomb\",\"Luna Sleeping Night Oil\",\"Honeymoon Glow AHA Resurfacing Night Serum with Echinacea GreenEnvy\\u2122\",\"The Littles\\u2122\",\"Ultra Repair\\u00ae Cream Intense Hydration\",\"Moisture Surge 72-Hour Auto-Replenishing Hydrator\",\"Cr\\u00e8me de la Mer Mini\",\"Black Tea Firming Overnight Mask\",\"Virgin Marula Luxury Facial Oil Mini\",\"Dr. Andrew Weil For Origins\\u2122 Mega-Mushroom Relief & Resilience Soothing Treatment Lotion\",\"Dramatically Different Moisturizing Lotion+\",\"GenOptics Aura Essence Serum\",\"Pure One Step Camellia Cleansing Oil\",\"Sheer Transformation\\u00ae Perfecting Moisturizer\",\"Your Skin But Better CC+ Cream Oil-Free Matte with SPF 40\",\"Water Sleeping Mask\",\"Facial Treatment Essence Mini\",\"Luminous Dewy Skin Mist\",\"Dramatically Different Moisturizing Gel\",\"Goodnight Glow Retin-ALT Sleeping Cr\\u00e8me\",\"U.F.O. Ultra-Clarifying Face Oil\",\"Watermelon Glow Sleeping Mask\",\"Pink Cloud Rosewater Moisture Cr\\u00e8me\",\"Tidal Brightening Enzyme Water Cream\",\"Beauty Elixir\",\"Grape Water\",\"Adaptogen Deep Moisture Cream\",\"The Renewal Oil\",\"Squalane + Vitamin C Rose Oil\",\"BB Tinted Treatment 12-Hour Primer Broad Spectrum SPF 30 Sunscreen\",\"GinZing\\u2122 Energy-Boosting Gel Moisturizer\",\"Beauty Water\",\"The Silk Cream\",\"C-Rush\\u2122 Brightening Gel Cr\\u00e8me\",\"Color Control Cushion Compact Broad Spectrum SPF 50+\",\"Vitamin Enriched Face Base Priming Moisturizer\",\"Cicapair \\u2122 Tiger Grass Color Correcting Treatment SPF 30\",\"Vinosource Moisturizing Sorbet\",\"Lapis Oil Balancing Facial Oil\",\"CC Cr\\u00e8me High Definition Radiance Face Cream Skin Perfector\",\"C.E.O. C + E antiOXIDANT Protect + Repair Moisturizer\",\"Your Skin But Better\\u2122 CC+Illumination\\u2122 Cream with SPF 50+\",\"Luminous Dewy Skin Night Concentrate\",\"GLOWSTARTER\\u2122 Mega Illuminating Moisturizer\",\"Ceramidin\\u2122 Cream\",\"BB Cushion Hydra Radiance SPF 50\",\"FUTURE RESPONSE Age Defense Creme\",\"THIRSTYMUD\\u2122 Hydrating Treatment\",\"Honey Drop Lightweight Moisturizer with Echinacea GreenEnvy\\u2122\",\"Water Drench Hyaluronic Cloud Cream\",\"Vintage Single Extract Essence\",\"Confidence in a Cream\\u2122 Transforming Moisturizing Super Cream\",\"Cr\\u00e8me Ancienne\\u00ae\",\"Hello FAB Coconut Skin Smoothie Priming Moisturizer\",\"Secret Sauce Clinically Advanced Miraculous Anti-Aging Moisturizer\",\"Moisture Surge Intense Skin Fortifying Hydrator\",\"Argan Daily Moisturizer SPF 47\",\"Water Bank Essence\",\"Watermelon Pink Juice Moisturizer\",\"The Moisturizing Cool Gel Cream\",\"Renewed Hope in A Jar Refreshing & Refining Moisturizer\",\"Cold Plasma Sub-D Firming Neck Treatment\",\"R\\u00e9nergie Lift Multi-Action Night\",\"GENIUS Ultimate Anti-Aging Cream\",\"Cicapair\\u2122 Tiger Grass Cream\",\"Dramatically Different Hydrating Jelly\",\"Whipped Argan Oil Face Butter\",\"Sleep Tight Firming Night Balm with Echinacea GreenEnvy\\u2122\",\"Invigorating Night Transformation\\u2122 Gel\",\"Aqua Bomb Sleeping Mask\",\"Superfood Air-Whip Hyaluronic Acid Moisture Cream\",\"The Indigo Cream Soothing Skin Protectant\",\"Squalane + Omega Repair Cream\",\"Daily Reviving Concentrate\",\"BB Cream SPF 35\",\"Vitamin C Glow Moisturizer\",\"Wild Rose + Vitamin C Advanced Brightening Sleeping Facial\",\"Peat Miracle Revital Cream\",\"Superberry Hydrate + Glow Oil\",\"Miracle Water 3-in-1 Micellar Cleanser\",\"Drink of H2O Hydrating Boost Moisturizer Rainforest of the Sea\\u2122\",\"Photo Finish Primer Water\",\"Ultra Repair Hydra-Firm Sleeping Cream\",\"Retinol Youth Renewal Night Cream\",\"The Essence Plumping Skin Softener\",\"Midnight Secret Late Night Recovery Treatment\",\"Squalane + Probiotic Gel Moisturizer\",\"Photo Finish Primerizer\",\"A Perfect World\\u2122 SPF 40 Age-Defense Moisturizer with White Tea\",\"Noni Glow Face Oil\",\"Water Bank Hydrating Gel\",\"GenOptics Spot Essence Serum\",\"Ferulic + Retinol Anti-Aging Moisturizer\",\"Evercalm\\u2122 Overnight Recovery Balm\",\"Oil-Control Mattifier SPF 15 PA++\",\"Counter Balance\\u2122 Oil Control Hydrator\",\"Capture Totale Dreamskin Advanced\",\"Ultra Facial Oil-Free Gel-Cream\",\"Ultra Repair\\u00ae Hydrating Serum\",\"Dr. Andrew Weil For Origins\\u2122 Mega-Bright SPF 30 Skin Tone Correcting Oil-Free Moisturizer\",\"100% Squalane Oil\",\"Ultra Repair Face Moisturizer\",\"Skin Perfecting Lotion - Blemish Prone/Oily Skin\",\"Abeille Royale Youth Watery Oil\",\"Plantscription\\u2122 SPF 25 Power Anti-Aging Cream\",\"The Moisturizing Soft Lotion\",\"Acne Solutions BB Cream Broad Spectrum SPF 40\",\"Resveratrol Lift Night Infusion Cream\",\"Essential-C Day Moisture Broad Spectrum SPF 30 PA+++\",\"Coconut Melt\",\"Future Solution LX Total Regenerating Cream\",\"Multi-Active Night Cream - Normal to Combination Skin\",\"Ibuki Refining Moisturizer Enriched\",\"The Renewal Oil Mini\",\"The Method: Nourish\",\"Gold Camellia Beauty Oil\",\"Ferulic + Retinol Wrinkle Recovery Overnight Serum\",\"Camera Ready CC Cream Broad Spectrum SPF 30 Dark Spot Correcting\",\"Oil Free Moisturizer\",\"CC Cream Daily Correct Broad Spectrum SPF 35+ Sunscreen\",\"GinZing\\u2122 SPF 40 Energy-Boosting Tinted Moisturizer\",\"Premier Cru Cream\",\"Resveratrol Lift Face Lifting Soft Cream\",\"White Lucent MultiBright Night Cream\",\"Wild Rose Vitamin C Active Brightening Oil\",\"Limited Edition Dramatically Different\\u2122 Moisturizing Gel\",\"Waterfall Glacier Water Cream\",\"100 percent Pure Argan Oil Light\",\"Cooling Water\",\"Resilience Lift Night Lifting/Firming Face and Neck Creme\",\"Truth Revealed\\u2122 Brightening Broad Spectrum SPF 15 Moisturizer\",\"Moisture Surge Hydrating Supercharged Concentrate\",\"Miraculous Anti-wrinkle Miracle Worker\",\"Ultra Facial Overnight Hydrating Mask\",\"Cellumination Cream EX\",\"Vine[activ] Overnight Detox Oil\",\"Extra-Firming Neck Anti-Wrinkle Rejuvenating Cream\",\"MOISTURE BOUND Rejuvenating Cr\\u00e8me\",\"BB Cr\\u00e8me au Ginseng\",\"Black Label Detox BB Beauty Balm\",\"Renewed Hope in A Jar Overnight Recharging & Refining Moisturizer\",\"Argan Cleansing Oil\",\"Ultra Facial Moisturizer\",\"Honey Savior All-in-One Skin Repair Salve with Echinacea GreenEnvy\\u2122 Honey\",\"Ultimate Miracle Worker Multi-Rejuvenating Cream SPF 30\",\"Treatment Toner\",\"Bio-Performance LiftDynamic Cream\",\"Vinosource Intense Moisture Rescue Cream\",\"Wrinkle Warrior\\u2122 2-in-1 Plumping Moisturizer + Serum\",\"Hyaluronic Marine Oil-Free Moisture Cushion\",\"Advanced Night Repair Intensive Recovery Ampoules\",\"Nutrient-Charged Water Gel\",\"Lingerie de Peau BB Cream\",\"MOISTURE BOUND Refreshing Hydra-Gel Oil-Free\",\"Revitalizing Supreme+ Global Anti-Aging Cell Power Creme SPF 15\",\"Hello FAB Coconut Water Cream\",\"Do Not Age with Dr. Brandt Moisturizing Neck Cream\",\"Water Bank Dual Layer Face Oil\",\"Ibuki Beauty Sleeping Mask\",\"VOLCASMIC\\u2122 Matte Glow Moisturizer\",\"R\\u00e9nergie Lift Multi-Action Sunscreen Broad Spectrum SPF 15 For All Skin Types\",\"Squalane + Antioxidant Cleansing Oil\",\"Plantscription\\u2122 Youth-Renewing Power Night Cream\",\"\\u00c9nergie de Vie The Smoothing & Plumping Water-Infused Cream\",\"ExfoliKate Glow Moisturizer\",\"Jelly Pack\",\"RetAsphere\\u2122 2-in-1 Retinol Night Cream\",\"High Potency Classics: Face Finishing & Firming Moisturizer\",\"Argan Infinity Cream Intensive Creamy Oil\",\"Water Drop Hydrating Moisturizer\",\"Moon Fruit Superfruit Night Treatment\",\"Visionnaire Advanced Multi-Correcting Cream\",\"Premier Cru Rich Cream\",\"Clean Break\\u2122 Oil-Free Moisturizer\",\"Hydra Zen Anti-Stress Gel Moisturizer\",\"5 in 1 Face Cream SPF 30\",\"Rose Hibiscus Coconut Water Hydrating Face Mist\",\"Retinoic Nutrient Face Oil\",\"Limited Edition Dramatically Different Moisturizing Lotion+\\u2122\",\"Hope In A Jar\",\"Ultra Facial Cream SPF 30\",\"Capture Youth Age-Delay Advanced Cr\\u00e8me\",\"DREAMDUO\\u2122 Overnight Transforming Treatment\",\"POWER Recharging Night Pressed Serum\",\"White Lucent All Day Brightener Broad Spectrum SPF 23 Moisturizer\",\"Featherweight Daily Moisturizing Cream\",\"Jasmine Green Tea Balancing Toner\",\"Goat Milk Moisturizing Cream\",\"Face Hero\"],\"price\":[175,179,68,175,38,68,60,72,29,47,38,105,58,90,30,39,85,92,40,34,28,240,48,38,38,25,99,48,28,55,80,45,48,65,18,10,58,245,72,37,29,30,120,44,60,60,52,39,72,44,65,38,110,49,48,38,195,59,45,52,145,48,290,28,68,39,32,36,39,175,39,135,122,112,48,28,40,48,48,34,48,85,58,47,47,42,48,58,44,38,39,32,38,82,95,29,52,42,45,68,35,225,75,48,40,34,115,29,36,56,58,24,40,50,60,270,39,76,63,28,280,57,45,130,125,95,88,42,65,34,39,140,76,92,54,39,39,48,24,92,55,39,60,35,160,50,90,150,39,36,49,32,29,34,75,50,115,39,95,60,115,60,54,100,82,34,67,38,40,49,99,30,60,55,65,42,85,69,28,36,58,88,140,30,48,40,32,48,39,39,29,95,59,95,62,49,39,65,34],\"rank\":{\"__ndarray__\":\"ZmZmZmZmEEBmZmZmZmYQQJqZmZmZmRFAZmZmZmZmDkBmZmZmZmYQQM3MzMzMzBBAzczMzMzMEECamZmZmZkRQJqZmZmZmRFAmpmZmZmZEUAAAAAAAAASQGZmZmZmZhBAZmZmZmZmEkCamZmZmZkRQGZmZmZmZhJAmpmZmZmZEUBmZmZmZmYQQGZmZmZmZhBAAAAAAAAAEkCamZmZmZkRQDMzMzMzMw9AZmZmZmZmEEAAAAAAAAASQM3MzMzMzBBAMzMzMzMzD0CamZmZmZkRQGZmZmZmZhBAAAAAAAAAEEAAAAAAAAASQDMzMzMzMxFAzczMzMzMEEBmZmZmZmYQQGZmZmZmZhJAzczMzMzMEEAzMzMzMzMRQAAAAAAAABJAMzMzMzMzE0DNzMzMzMwQQJqZmZmZmRFAMzMzMzMzEUCamZmZmZkRQGZmZmZmZhJAMzMzMzMzEUBmZmZmZmYSQAAAAAAAABBAAAAAAAAAEkDNzMzMzMwQQM3MzMzMzBBAmpmZmZmZEUBmZmZmZmYQQGZmZmZmZhBAMzMzMzMzD0AAAAAAAAASQAAAAAAAABBAZmZmZmZmEkAzMzMzMzMRQJqZmZmZmRFAMzMzMzMzEUBmZmZmZmYQQJqZmZmZmRFAAAAAAAAAEkAzMzMzMzMRQJqZmZmZmRFAzczMzMzMEEBmZmZmZmYOQJqZmZmZmRFAMzMzMzMzD0DNzMzMzMwSQGZmZmZmZhBAZmZmZmZmCkBmZmZmZmYQQGZmZmZmZg5AMzMzMzMzEUAzMzMzMzMRQDMzMzMzMxFAAAAAAAAAEEBmZmZmZmYQQDMzMzMzMxFAMzMzMzMzEUDNzMzMzMwSQM3MzMzMzBBAzczMzMzMEEDNzMzMzMwSQM3MzMzMzBJAMzMzMzMzD0AzMzMzMzMRQJqZmZmZmRFAzczMzMzMEkAzMzMzMzMTQAAAAAAAABJAmpmZmZmZEUBmZmZmZmYQQDMzMzMzMxFAZmZmZmZmEkCamZmZmZkRQM3MzMzMzBBAmpmZmZmZEUBmZmZmZmYQQAAAAAAAAAxAMzMzMzMzEUBmZmZmZmYSQM3MzMzMzBBAZmZmZmZmEECamZmZmZkTQM3MzMzMzBBAMzMzMzMzEUAzMzMzMzMRQGZmZmZmZhBAzczMzMzMEEBmZmZmZmYQQGZmZmZmZhJAzczMzMzMEEAzMzMzMzMRQGZmZmZmZhBAzczMzMzMEkDNzMzMzMwMQGZmZmZmZhBAZmZmZmZmEEAAAAAAAAAQQM3MzMzMzBBAAAAAAAAAEEDNzMzMzMwQQJqZmZmZmRFAAAAAAAAAEEAAAAAAAAASQGZmZmZmZhJAmpmZmZmZEUAzMzMzMzMPQM3MzMzMzBBAmpmZmZmZEUAAAAAAAAAQQJqZmZmZmRFAMzMzMzMzD0BmZmZmZmYQQJqZmZmZmRFAAAAAAAAAFEBmZmZmZmYSQJqZmZmZmRFAZmZmZmZmDkDNzMzMzMwQQM3MzMzMzBBAAAAAAAAAEEAzMzMzMzMRQJqZmZmZmRFAMzMzMzMzEUAAAAAAAAASQGZmZmZmZhBAZmZmZmZmEECamZmZmZkRQGZmZmZmZhBAmpmZmZmZEUBmZmZmZmYQQDMzMzMzMw9AAAAAAAAAEkAAAAAAAAAQQJqZmZmZmRFAmpmZmZmZDUDNzMzMzMwQQDMzMzMzMw9AzczMzMzMEECamZmZmZkTQGZmZmZmZhJAMzMzMzMzEUDNzMzMzMwQQAAAAAAAABBAzczMzMzMEEDNzMzMzMwQQAAAAAAAABRAmpmZmZmZEUBmZmZmZmYQQDMzMzMzMw9AmpmZmZmZEUCamZmZmZkRQM3MzMzMzBBAZmZmZmZmEkAzMzMzMzMRQDMzMzMzMxFAMzMzMzMzEUAAAAAAAAASQGZmZmZmZhBAAAAAAAAAEEBmZmZmZmYSQAAAAAAAABJAAAAAAAAAEkBmZmZmZmYSQDMzMzMzMw9AZmZmZmZmEEAzMzMzMzMRQAAAAAAAAAAAAAAAAAAAEEDNzMzMzMwQQDMzMzMzMw9AzczMzMzMEECamZmZmZkRQGZmZmZmZhJAZmZmZmZmEkDNzMzMzMwQQGZmZmZmZhBAMzMzMzMzE0A=\",\"dtype\":\"float64\",\"shape\":[199]}},\"selected\":{\"id\":\"9e8e8e0f-422c-4d84-823f-a0f68e74953c\",\"type\":\"Selection\"},\"selection_policy\":{\"id\":\"c1511423-444c-4435-bf87-0056f87a9ca2\",\"type\":\"UnionRenderers\"}},\"id\":\"a711e3aa-9969-4073-b42c-9fadab9879c5\",\"type\":\"ColumnDataSource\"},{\"attributes\":{\"source\":{\"id\":\"a711e3aa-9969-4073-b42c-9fadab9879c5\",\"type\":\"ColumnDataSource\"}},\"id\":\"71baf369-285d-468b-a849-4b994c88103a\",\"type\":\"CDSView\"},{\"attributes\":{},\"id\":\"c1511423-444c-4435-bf87-0056f87a9ca2\",\"type\":\"UnionRenderers\"},{\"attributes\":{},\"id\":\"61ab678c-32a9-41d9-ae60-027d51e5ab91\",\"type\":\"BasicTicker\"},{\"attributes\":{\"callback\":null},\"id\":\"a20cfeff-3c92-489d-bc64-8fed9eef483d\",\"type\":\"DataRange1d\"},{\"attributes\":{\"text\":\"> Please press the reset button when you make a change the option. It's the third botton from the buttom.\",\"width\":300},\"id\":\"671b8d77-c0e8-4492-98e1-ad60e94ffe2f\",\"type\":\"Paragraph\"},{\"attributes\":{},\"id\":\"acdb8db3-3092-4611-9888-5d6d0377e2e9\",\"type\":\"BasicTickFormatter\"},{\"attributes\":{\"active_drag\":\"auto\",\"active_inspect\":\"auto\",\"active_multi\":null,\"active_scroll\":\"auto\",\"active_tap\":\"auto\",\"tools\":[{\"id\":\"1c44b87a-5f5b-4e0c-874f-5846816453a7\",\"type\":\"PanTool\"},{\"id\":\"45b7db9b-b82b-4abf-9b24-0de8258532c3\",\"type\":\"WheelZoomTool\"},{\"id\":\"1ec3e37e-fc53-4483-82da-b5b6c3e4782e\",\"type\":\"BoxZoomTool\"},{\"id\":\"89f89797-d4c7-44bf-a558-66dfb5ea93dc\",\"type\":\"SaveTool\"},{\"id\":\"acc5f7fa-79ab-4556-84fa-38ab7e139646\",\"type\":\"ResetTool\"},{\"id\":\"1c038148-7f4a-425e-9e89-363d86187818\",\"type\":\"HelpTool\"},{\"id\":\"70016c46-106c-4cb6-83fa-d4dd31112330\",\"type\":\"HoverTool\"}]},\"id\":\"2d4467b1-1d3a-4109-882a-1b22529acc06\",\"type\":\"Toolbar\"},{\"attributes\":{\"axis_label\":\"SVD2\",\"formatter\":{\"id\":\"a3e2df74-40a5-48df-a756-b0010b1d62cc\",\"type\":\"BasicTickFormatter\"},\"plot\":{\"id\":\"ac50cc01-fb89-415d-9c4a-e0b308b33a6b\",\"subtype\":\"Figure\",\"type\":\"Plot\"},\"ticker\":{\"id\":\"61ab678c-32a9-41d9-ae60-027d51e5ab91\",\"type\":\"BasicTicker\"}},\"id\":\"3528e395-316e-4fcf-a6af-979d2f39aac5\",\"type\":\"LinearAxis\"},{\"attributes\":{},\"id\":\"92683c3b-8899-44c4-b31e-76825cc94afa\",\"type\":\"BasicTicker\"},{\"attributes\":{\"axis_label\":\"SVD1\",\"formatter\":{\"id\":\"acdb8db3-3092-4611-9888-5d6d0377e2e9\",\"type\":\"BasicTickFormatter\"},\"plot\":{\"id\":\"ac50cc01-fb89-415d-9c4a-e0b308b33a6b\",\"subtype\":\"Figure\",\"type\":\"Plot\"},\"ticker\":{\"id\":\"92683c3b-8899-44c4-b31e-76825cc94afa\",\"type\":\"BasicTicker\"}},\"id\":\"760f4cc2-a15c-471a-8593-0c36b313543e\",\"type\":\"LinearAxis\"},{\"attributes\":{\"plot\":{\"id\":\"ac50cc01-fb89-415d-9c4a-e0b308b33a6b\",\"subtype\":\"Figure\",\"type\":\"Plot\"},\"ticker\":{\"id\":\"92683c3b-8899-44c4-b31e-76825cc94afa\",\"type\":\"BasicTicker\"}},\"id\":\"d1726632-3efb-4929-8747-138a8aa7d977\",\"type\":\"Grid\"},{\"attributes\":{},\"id\":\"be5d076d-9f3e-4fe0-af72-0419208d06b3\",\"type\":\"LinearScale\"},{\"attributes\":{},\"id\":\"45b7db9b-b82b-4abf-9b24-0de8258532c3\",\"type\":\"WheelZoomTool\"},{\"attributes\":{},\"id\":\"706fee00-126e-40e5-8132-504e2ebc4929\",\"type\":\"LinearScale\"},{\"attributes\":{\"children\":[{\"id\":\"4df127f9-3148-41dd-893a-186152de7687\",\"type\":\"Paragraph\"},{\"id\":\"671b8d77-c0e8-4492-98e1-ad60e94ffe2f\",\"type\":\"Paragraph\"}]},\"id\":\"b61a36f8-25bc-4f44-beef-175972b4a701\",\"type\":\"WidgetBox\"},{\"attributes\":{\"callback\":null},\"id\":\"169f547d-d1d1-476f-98d5-8fbd233d2c57\",\"type\":\"DataRange1d\"},{\"attributes\":{\"fill_alpha\":{\"value\":0.1},\"fill_color\":{\"value\":\"#1f77b4\"},\"line_alpha\":{\"value\":0.1},\"line_color\":{\"value\":\"#1f77b4\"},\"size\":{\"units\":\"screen\",\"value\":8},\"x\":{\"field\":\"SVD1\"},\"y\":{\"field\":\"SVD2\"}},\"id\":\"19309176-928e-4b07-bd08-e67aff2798ee\",\"type\":\"Circle\"},{\"attributes\":{},\"id\":\"a3e2df74-40a5-48df-a756-b0010b1d62cc\",\"type\":\"BasicTickFormatter\"},{\"attributes\":{\"dimension\":1,\"plot\":{\"id\":\"ac50cc01-fb89-415d-9c4a-e0b308b33a6b\",\"subtype\":\"Figure\",\"type\":\"Plot\"},\"ticker\":{\"id\":\"61ab678c-32a9-41d9-ae60-027d51e5ab91\",\"type\":\"BasicTicker\"}},\"id\":\"f8ec8d2f-9da6-4f4c-a485-847f13fb5a80\",\"type\":\"Grid\"},{\"attributes\":{\"fill_alpha\":{\"value\":0.4},\"fill_color\":{\"value\":\"Salmon\"},\"line_alpha\":{\"value\":0.4},\"line_color\":{\"value\":\"Salmon\"},\"size\":{\"units\":\"screen\",\"value\":8},\"x\":{\"field\":\"SVD1\"},\"y\":{\"field\":\"SVD2\"}},\"id\":\"9075abe2-82e8-4078-9989-0cd6d312575b\",\"type\":\"Circle\"},{\"attributes\":{\"data_source\":{\"id\":\"a711e3aa-9969-4073-b42c-9fadab9879c5\",\"type\":\"ColumnDataSource\"},\"glyph\":{\"id\":\"9075abe2-82e8-4078-9989-0cd6d312575b\",\"type\":\"Circle\"},\"hover_glyph\":null,\"muted_glyph\":null,\"nonselection_glyph\":{\"id\":\"19309176-928e-4b07-bd08-e67aff2798ee\",\"type\":\"Circle\"},\"selection_glyph\":null,\"view\":{\"id\":\"71baf369-285d-468b-a849-4b994c88103a\",\"type\":\"CDSView\"}},\"id\":\"61d12f0a-1b0c-4fad-b92d-6188244536f4\",\"type\":\"GlyphRenderer\"},{\"attributes\":{\"callback\":null,\"renderers\":\"auto\",\"tooltips\":[[\"Item\",\"@name\"],[\"brand\",\"@brand\"],[\"Price\",\"$ @price\"],[\"Rank\",\"@rank\"]]},\"id\":\"70016c46-106c-4cb6-83fa-d4dd31112330\",\"type\":\"HoverTool\"},{\"attributes\":{},\"id\":\"1c44b87a-5f5b-4e0c-874f-5846816453a7\",\"type\":\"PanTool\"},{\"attributes\":{\"plot\":null,\"text\":\"\"},\"id\":\"d9637751-3f68-4dc9-888b-20be4ed26af8\",\"type\":\"Title\"},{\"attributes\":{},\"id\":\"9e8e8e0f-422c-4d84-823f-a0f68e74953c\",\"type\":\"Selection\"},{\"attributes\":{\"text\":\"> Zoom in the plot using the second button on the right\",\"width\":400},\"id\":\"4df127f9-3148-41dd-893a-186152de7687\",\"type\":\"Paragraph\"}],\"root_ids\":[\"4c99fd7e-7a91-4070-a152-fd092504dfc4\"]},\"title\":\"Bokeh Application\",\"version\":\"0.13.0\"}};\n",
       "  var render_items = [{\"docid\":\"939f764a-0faf-409c-91a6-371d8d856ce1\",\"notebook_comms_target\":\"d320bf7b-2e31-41f1-9078-cb94ae74e455\",\"roots\":{\"4c99fd7e-7a91-4070-a152-fd092504dfc4\":\"74b212c1-84f5-446d-8688-0453e2ab643e\"}}];\n",
       "  root.Bokeh.embed.embed_items_notebook(docs_json, render_items);\n",
       "\n",
       "  }\n",
       "  if (root.Bokeh !== undefined) {\n",
       "    embed_document(root);\n",
       "  } else {\n",
       "    var attempts = 0;\n",
       "    var timer = setInterval(function(root) {\n",
       "      if (root.Bokeh !== undefined) {\n",
       "        embed_document(root);\n",
       "        clearInterval(timer);\n",
       "      }\n",
       "      attempts++;\n",
       "      if (attempts > 100) {\n",
       "        console.log(\"Bokeh: ERROR: Unable to run BokehJS code because BokehJS library is missing\")\n",
       "        clearInterval(timer);\n",
       "      }\n",
       "    }, 10, root)\n",
       "  }\n",
       "})(window);"
      ],
      "application/vnd.bokehjs_exec.v0+json": ""
     },
     "metadata": {
      "application/vnd.bokehjs_exec.v0+json": {
       "id": "4c99fd7e-7a91-4070-a152-fd092504dfc4"
      }
     },
     "output_type": "display_data"
    },
    {
     "data": {
      "text/html": [
       "<p><code>&lt;Bokeh Notebook handle for <strong>In[10]</strong>&gt;</code></p>"
      ],
      "text/plain": [
       "<bokeh.io.notebook.CommsHandle at 0x1adf09859b0>"
      ]
     },
     "execution_count": 10,
     "metadata": {},
     "output_type": "execute_result"
    }
   ],
   "source": [
    "# interact the plot with callback \n",
    "interact(update, Category = option_1, Skin_type = option_2)\n",
    "t1 = Paragraph(text = '> Zoom in the plot using the second button on the right', width = 400)\n",
    "t2 = Paragraph(text = '> Please press the reset button when you make a change the option. It\\'s the third botton from the buttom.', width = 300)\n",
    "\n",
    "show(row(plot, widgetbox(t1, t2)), notebook_handle = True)"
   ]
  },
  {
   "cell_type": "markdown",
   "metadata": {},
   "source": [
    "This is the resulting map for cosmetics. Each point on the plot is each cusmetic item. You can choose the options depending on the item category and your skin type. For example, if you choose 'Clenaser' for catergoy and 'Oily' for your skin type, the plot is updated with the cleanser items for Oily skin customers. You can comprehend the distance between the points as a similarities between the items. The longer the distance is, the more different components the items have. Therefore if you want to find one that is similiar with what you've used, you can look up for the ones around that item. "
   ]
  },
  {
   "cell_type": "markdown",
   "metadata": {},
   "source": [
    "# 3. Similarities"
   ]
  },
  {
   "cell_type": "markdown",
   "metadata": {},
   "source": [
    "Let's get the similarities between the items. Now each item is plotted on the plane we can simply calculate the distance between each point. The SVD1 and SVD2 value will be the coordinates. For instance, I chose [Peat Miracle Revital Cream](https://www.sephora.com/product/peat-miracle-revital-cream-P412440) from Belif. Let's compare its chemical components with other moisturizers for dry skin. "
   ]
  },
  {
   "cell_type": "code",
   "execution_count": 70,
   "metadata": {},
   "outputs": [
    {
     "data": {
      "text/html": [
       "<div>\n",
       "<style scoped>\n",
       "    .dataframe tbody tr th:only-of-type {\n",
       "        vertical-align: middle;\n",
       "    }\n",
       "\n",
       "    .dataframe tbody tr th {\n",
       "        vertical-align: top;\n",
       "    }\n",
       "\n",
       "    .dataframe thead th {\n",
       "        text-align: right;\n",
       "    }\n",
       "</style>\n",
       "<table border=\"1\" class=\"dataframe\">\n",
       "  <thead>\n",
       "    <tr style=\"text-align: right;\">\n",
       "      <th></th>\n",
       "      <th>index</th>\n",
       "      <th>Label</th>\n",
       "      <th>brand</th>\n",
       "      <th>name</th>\n",
       "      <th>price</th>\n",
       "      <th>rank</th>\n",
       "      <th>SVD1</th>\n",
       "      <th>SVD2</th>\n",
       "    </tr>\n",
       "  </thead>\n",
       "  <tbody>\n",
       "    <tr>\n",
       "      <th>87</th>\n",
       "      <td>286</td>\n",
       "      <td>Moisturizer_Dry</td>\n",
       "      <td>BELIF</td>\n",
       "      <td>Peat Miracle Revital Cream</td>\n",
       "      <td>58</td>\n",
       "      <td>4.7</td>\n",
       "      <td>2.52592</td>\n",
       "      <td>-0.017333</td>\n",
       "    </tr>\n",
       "  </tbody>\n",
       "</table>\n",
       "</div>"
      ],
      "text/plain": [
       "    index            Label  brand                        name  price  rank  \\\n",
       "87    286  Moisturizer_Dry  BELIF  Peat Miracle Revital Cream     58   4.7   \n",
       "\n",
       "       SVD1      SVD2  \n",
       "87  2.52592 -0.017333  "
      ]
     },
     "execution_count": 70,
     "metadata": {},
     "output_type": "execute_result"
    }
   ],
   "source": [
    "df_2 = df[df.Label == 'Moisturizer_Dry'].reset_index()\n",
    "myItem = df_2[df_2.name.str.contains('Peat Miracle Revital')]\n",
    "myItem"
   ]
  },
  {
   "cell_type": "code",
   "execution_count": 89,
   "metadata": {},
   "outputs": [
    {
     "name": "stdout",
     "output_type": "stream",
     "text": [
      "<class 'pandas.core.frame.DataFrame'>\n",
      "Int64Index: 190 entries, 94 to 3\n",
      "Data columns (total 9 columns):\n",
      "index    190 non-null int64\n",
      "Label    190 non-null object\n",
      "brand    190 non-null object\n",
      "name     190 non-null object\n",
      "price    190 non-null int64\n",
      "rank     190 non-null float64\n",
      "SVD1     190 non-null float64\n",
      "SVD2     190 non-null float64\n",
      "dist     190 non-null float64\n",
      "dtypes: float64(4), int64(2), object(3)\n",
      "memory usage: 14.8+ KB\n"
     ]
    }
   ],
   "source": [
    "import numpy as np\n",
    "\n",
    "X = myItem.SVD1\n",
    "Y = myItem.SVD2\n",
    "\n",
    "# initiate the column\n",
    "df_2['dist'] = 0.0\n",
    "df_2.info()"
   ]
  },
  {
   "cell_type": "code",
   "execution_count": 90,
   "metadata": {},
   "outputs": [
    {
     "name": "stderr",
     "output_type": "stream",
     "text": [
      "C:\\Users\\jjone\\Anaconda3\\lib\\site-packages\\ipykernel_launcher.py:4: SettingWithCopyWarning: \n",
      "A value is trying to be set on a copy of a slice from a DataFrame\n",
      "\n",
      "See the caveats in the documentation: http://pandas.pydata.org/pandas-docs/stable/indexing.html#indexing-view-versus-copy\n",
      "  after removing the cwd from sys.path.\n"
     ]
    }
   ],
   "source": [
    "for i in range(5):\n",
    "    a = df_2['SVD1'][i]\n",
    "    b = df_2['SVD2'][i]\n",
    "    df_2.dist[i] = np.sqrt((X - a)**2 + (Y - b)**2)"
   ]
  },
  {
   "cell_type": "code",
   "execution_count": 91,
   "metadata": {},
   "outputs": [
    {
     "data": {
      "text/html": [
       "<div>\n",
       "<style scoped>\n",
       "    .dataframe tbody tr th:only-of-type {\n",
       "        vertical-align: middle;\n",
       "    }\n",
       "\n",
       "    .dataframe tbody tr th {\n",
       "        vertical-align: top;\n",
       "    }\n",
       "\n",
       "    .dataframe thead th {\n",
       "        text-align: right;\n",
       "    }\n",
       "</style>\n",
       "<table border=\"1\" class=\"dataframe\">\n",
       "  <thead>\n",
       "    <tr style=\"text-align: right;\">\n",
       "      <th></th>\n",
       "      <th>index</th>\n",
       "      <th>Label</th>\n",
       "      <th>brand</th>\n",
       "      <th>name</th>\n",
       "      <th>price</th>\n",
       "      <th>rank</th>\n",
       "      <th>SVD1</th>\n",
       "      <th>SVD2</th>\n",
       "      <th>dist</th>\n",
       "    </tr>\n",
       "  </thead>\n",
       "  <tbody>\n",
       "    <tr>\n",
       "      <th>94</th>\n",
       "      <td>293</td>\n",
       "      <td>Moisturizer_Dry</td>\n",
       "      <td>TATCHA</td>\n",
       "      <td>The Essence Plumping Skin Softener</td>\n",
       "      <td>95</td>\n",
       "      <td>4.4</td>\n",
       "      <td>3.661030e-01</td>\n",
       "      <td>-6.500402e-02</td>\n",
       "      <td>0.0</td>\n",
       "    </tr>\n",
       "    <tr>\n",
       "      <th>7</th>\n",
       "      <td>206</td>\n",
       "      <td>Moisturizer_Dry</td>\n",
       "      <td>KIEHL'S SINCE 1851</td>\n",
       "      <td>Ultra Facial Cream</td>\n",
       "      <td>29</td>\n",
       "      <td>4.4</td>\n",
       "      <td>2.142333e+00</td>\n",
       "      <td>-6.664940e-01</td>\n",
       "      <td>0.0</td>\n",
       "    </tr>\n",
       "    <tr>\n",
       "      <th>8</th>\n",
       "      <td>207</td>\n",
       "      <td>Moisturizer_Dry</td>\n",
       "      <td>KIEHL'S SINCE 1851</td>\n",
       "      <td>Midnight Recovery Concentrate</td>\n",
       "      <td>47</td>\n",
       "      <td>4.4</td>\n",
       "      <td>-1.892901e-15</td>\n",
       "      <td>-4.526505e-12</td>\n",
       "      <td>0.0</td>\n",
       "    </tr>\n",
       "    <tr>\n",
       "      <th>9</th>\n",
       "      <td>208</td>\n",
       "      <td>Moisturizer_Dry</td>\n",
       "      <td>SUNDAY RILEY</td>\n",
       "      <td>Luna Sleeping Night Oil</td>\n",
       "      <td>105</td>\n",
       "      <td>4.1</td>\n",
       "      <td>5.292444e-03</td>\n",
       "      <td>-1.274546e-02</td>\n",
       "      <td>0.0</td>\n",
       "    </tr>\n",
       "    <tr>\n",
       "      <th>10</th>\n",
       "      <td>209</td>\n",
       "      <td>Moisturizer_Dry</td>\n",
       "      <td>FARMACY</td>\n",
       "      <td>Honeymoon Glow AHA Resurfacing Night Serum wit...</td>\n",
       "      <td>58</td>\n",
       "      <td>4.6</td>\n",
       "      <td>1.716611e+00</td>\n",
       "      <td>-7.093338e-01</td>\n",
       "      <td>0.0</td>\n",
       "    </tr>\n",
       "  </tbody>\n",
       "</table>\n",
       "</div>"
      ],
      "text/plain": [
       "    index            Label               brand  \\\n",
       "94    293  Moisturizer_Dry              TATCHA   \n",
       "7     206  Moisturizer_Dry  KIEHL'S SINCE 1851   \n",
       "8     207  Moisturizer_Dry  KIEHL'S SINCE 1851   \n",
       "9     208  Moisturizer_Dry        SUNDAY RILEY   \n",
       "10    209  Moisturizer_Dry             FARMACY   \n",
       "\n",
       "                                                 name  price  rank  \\\n",
       "94                 The Essence Plumping Skin Softener     95   4.4   \n",
       "7                                  Ultra Facial Cream     29   4.4   \n",
       "8                       Midnight Recovery Concentrate     47   4.4   \n",
       "9                             Luna Sleeping Night Oil    105   4.1   \n",
       "10  Honeymoon Glow AHA Resurfacing Night Serum wit...     58   4.6   \n",
       "\n",
       "            SVD1          SVD2  dist  \n",
       "94  3.661030e-01 -6.500402e-02   0.0  \n",
       "7   2.142333e+00 -6.664940e-01   0.0  \n",
       "8  -1.892901e-15 -4.526505e-12   0.0  \n",
       "9   5.292444e-03 -1.274546e-02   0.0  \n",
       "10  1.716611e+00 -7.093338e-01   0.0  "
      ]
     },
     "execution_count": 91,
     "metadata": {},
     "output_type": "execute_result"
    }
   ],
   "source": [
    "df_2.head()"
   ]
  },
  {
   "cell_type": "code",
   "execution_count": 96,
   "metadata": {},
   "outputs": [
    {
     "data": {
      "text/html": [
       "<div>\n",
       "<style scoped>\n",
       "    .dataframe tbody tr th:only-of-type {\n",
       "        vertical-align: middle;\n",
       "    }\n",
       "\n",
       "    .dataframe tbody tr th {\n",
       "        vertical-align: top;\n",
       "    }\n",
       "\n",
       "    .dataframe thead th {\n",
       "        text-align: right;\n",
       "    }\n",
       "</style>\n",
       "<table border=\"1\" class=\"dataframe\">\n",
       "  <thead>\n",
       "    <tr style=\"text-align: right;\">\n",
       "      <th></th>\n",
       "      <th>name</th>\n",
       "      <th>dist</th>\n",
       "    </tr>\n",
       "  </thead>\n",
       "  <tbody>\n",
       "    <tr>\n",
       "      <th>3</th>\n",
       "      <td>The Moisturizing Soft Cream</td>\n",
       "      <td>4.814857</td>\n",
       "    </tr>\n",
       "    <tr>\n",
       "      <th>4</th>\n",
       "      <td>Your Skin But Better™ CC+™ Cream with SPF 50+</td>\n",
       "      <td>4.222097</td>\n",
       "    </tr>\n",
       "    <tr>\n",
       "      <th>0</th>\n",
       "      <td>Crème de la Mer</td>\n",
       "      <td>2.962725</td>\n",
       "    </tr>\n",
       "    <tr>\n",
       "      <th>1</th>\n",
       "      <td>Facial Treatment Essence</td>\n",
       "      <td>1.958739</td>\n",
       "    </tr>\n",
       "    <tr>\n",
       "      <th>2</th>\n",
       "      <td>Protini™ Polypeptide Cream</td>\n",
       "      <td>1.115606</td>\n",
       "    </tr>\n",
       "  </tbody>\n",
       "</table>\n",
       "</div>"
      ],
      "text/plain": [
       "                                            name      dist\n",
       "3                    The Moisturizing Soft Cream  4.814857\n",
       "4  Your Skin But Better™ CC+™ Cream with SPF 50+  4.222097\n",
       "0                                Crème de la Mer  2.962725\n",
       "1                       Facial Treatment Essence  1.958739\n",
       "2                     Protini™ Polypeptide Cream  1.115606"
      ]
     },
     "execution_count": 96,
     "metadata": {},
     "output_type": "execute_result"
    }
   ],
   "source": [
    "df_2 = df_2.sort_values('dist', ascending = False)\n",
    "df_2[['name', 'dist']].head()"
   ]
  },
  {
   "cell_type": "markdown",
   "metadata": {},
   "source": [
    "# 4. "
   ]
  },
  {
   "cell_type": "code",
   "execution_count": null,
   "metadata": {},
   "outputs": [],
   "source": []
  },
  {
   "cell_type": "code",
   "execution_count": null,
   "metadata": {},
   "outputs": [],
   "source": []
  }
 ],
 "metadata": {
  "kernelspec": {
   "display_name": "Python 3",
   "language": "python",
   "name": "python3"
  },
  "language_info": {
   "codemirror_mode": {
    "name": "ipython",
    "version": 3
   },
   "file_extension": ".py",
   "mimetype": "text/x-python",
   "name": "python",
   "nbconvert_exporter": "python",
   "pygments_lexer": "ipython3",
   "version": "3.7.0"
  }
 },
 "nbformat": 4,
 "nbformat_minor": 2
}
